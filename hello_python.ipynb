{
 "cells": [
  {
   "cell_type": "code",
   "execution_count": 1,
   "metadata": {
    "collapsed": false
   },
   "outputs": [
    {
     "data": {
      "text/plain": [
       "36"
      ]
     },
     "execution_count": 1,
     "metadata": {},
     "output_type": "execute_result"
    }
   ],
   "source": [
    "12*3"
   ]
  },
  {
   "cell_type": "code",
   "execution_count": 2,
   "metadata": {
    "collapsed": false
   },
   "outputs": [
    {
     "name": "stdout",
     "output_type": "stream",
     "text": [
      "111111\n"
     ]
    }
   ],
   "source": [
    "print('111111')"
   ]
  },
  {
   "cell_type": "markdown",
   "metadata": {},
   "source": [
    "# หัวข้อใหญ่\n",
    "## หัวข้อรอง มี 2-6 เครื่องหมายสี่เหลี่ยม\n",
    "\n",
    "ข้อความทั่วไปก็พิมพ์ไปได้เลย เว้น 1 บรรทัดทุกท้ายย่อหน้าด้วย\n",
    "\n",
    "ถ้าอยากได้ตัวหนา __ก็ทำอย่างนี้__  แล้วก็ _ทำแบบนี้_ กับตัวเอียง\n",
    "\n",
    "หัวเรื่องก็ทำได้\n",
    "* รายข้อ\n",
    "* รายข้อ\n",
    "    1. ลำดับ\n",
    "    2. ลำดับ\n",
    " \n",
    "```python\n",
    "print('Hello วิชาไพธอน')\n",
    "```\n",
    "อยากเก่งต้องทำไง?\n",
    "> อยากเก่งต้องทำไง\n",
    "\n",
    "this is [an_example](https://thestandard.co) inline link.\n",
    "![logo](https://fotofaka.com/wp-content/uploads/2016/07/mirrorMilky.jpg)"
   ]
  },
  {
   "cell_type": "markdown",
   "metadata": {},
   "source": [
    "# condition & Math operater"
   ]
  },
  {
   "cell_type": "code",
   "execution_count": 4,
   "metadata": {
    "collapsed": false
   },
   "outputs": [
    {
     "name": "stdout",
     "output_type": "stream",
     "text": [
      "เลขคี่\n"
     ]
    }
   ],
   "source": [
    "rand_number=75\n",
    "if rand_number%2==0 :\n",
    "    print('เลขคู่')\n",
    "else :\n",
    "    print('เลขคี่')"
   ]
  },
  {
   "cell_type": "code",
   "execution_count": 41,
   "metadata": {
    "collapsed": false
   },
   "outputs": [
    {
     "ename": "TypeError",
     "evalue": "Can't convert 'float' object to str implicitly",
     "output_type": "error",
     "traceback": [
      "\u001b[0;31m---------------------------------------------------------------------------\u001b[0m",
      "\u001b[0;31mTypeError\u001b[0m                                 Traceback (most recent call last)",
      "\u001b[0;32m<ipython-input-41-12ce86470a2a>\u001b[0m in \u001b[0;36m<module>\u001b[0;34m()\u001b[0m\n\u001b[1;32m      4\u001b[0m \u001b[0;34m\u001b[0m\u001b[0m\n\u001b[1;32m      5\u001b[0m \u001b[0mcelsius\u001b[0m\u001b[0;34m=\u001b[0m\u001b[0;34m(\u001b[0m\u001b[0mt1\u001b[0m\u001b[0;34m-\u001b[0m\u001b[0;36m32\u001b[0m\u001b[0;34m)\u001b[0m\u001b[0;34m*\u001b[0m\u001b[0;34m(\u001b[0m\u001b[0;36m5\u001b[0m\u001b[0;34m/\u001b[0m\u001b[0;36m9\u001b[0m\u001b[0;34m)\u001b[0m\u001b[0;34m\u001b[0m\u001b[0m\n\u001b[0;32m----> 6\u001b[0;31m \u001b[0mprint\u001b[0m\u001b[0;34m(\u001b[0m\u001b[0;34m':.4f'\u001b[0m\u001b[0;34m+\u001b[0m\u001b[0mcelsius\u001b[0m\u001b[0;34m)\u001b[0m\u001b[0;34m\u001b[0m\u001b[0m\n\u001b[0m\u001b[1;32m      7\u001b[0m \u001b[0mfahrenheit\u001b[0m\u001b[0;34m=\u001b[0m\u001b[0;34m(\u001b[0m\u001b[0mt2\u001b[0m\u001b[0;34m*\u001b[0m\u001b[0;36m1.8\u001b[0m\u001b[0;34m)\u001b[0m\u001b[0;34m+\u001b[0m\u001b[0;36m32\u001b[0m\u001b[0;34m\u001b[0m\u001b[0m\n\u001b[1;32m      8\u001b[0m \u001b[0mprint\u001b[0m\u001b[0;34m(\u001b[0m\u001b[0;34m'%.4f'\u001b[0m\u001b[0;34m%\u001b[0m\u001b[0mfahrenheit\u001b[0m\u001b[0;34m)\u001b[0m\u001b[0;34m\u001b[0m\u001b[0m\n",
      "\u001b[0;31mTypeError\u001b[0m: Can't convert 'float' object to str implicitly"
     ]
    }
   ],
   "source": [
    "#tempurater converter\n",
    "t1=99.5\n",
    "t2=38.2\n",
    "\n",
    "celsius=(t1-32)*(5/9)\n",
    "print('%.4f'%celsius)\n",
    "fahrenheit=(t2*1.8)+32\n",
    "print('%.4f'%fahrenheit)\n"
   ]
  },
  {
   "cell_type": "code",
   "execution_count": 18,
   "metadata": {
    "collapsed": false
   },
   "outputs": [
    {
     "name": "stdout",
     "output_type": "stream",
     "text": [
      "หนักเกินพิกัด\n"
     ]
    }
   ],
   "source": [
    "#BMI calculator (Metric)\n",
    "#BMI = weight(kg) / height(m)^2\n",
    "\n",
    "body_weight=85 #kg.\n",
    "height=1.72#m\n",
    "\n",
    "bmi_scrore= body_weight/(height**2)\n",
    "if bmi_scrore <= 15:\n",
    "    print('มีความหนักน้อยมาก')\n",
    "elif (bmi_scrore >= 15 and bmi_scrore<16) :\n",
    "    print('น้ำหนักตัวน้อยมาก')\n",
    "elif bmi_scrore >=16 and bmi_scrore<18.5 :\n",
    "   print('ความหนักน้อย')\n",
    "elif bmi_scrore >=18.5 and bmi_scrore<25 :\n",
    "   print('ปกติ ')\n",
    "elif bmi_scrore >=25 and bmi_scrore<30 :\n",
    "   print('หนักเกินพิกัด')\n",
    "elif bmi_scrore >=30 and bmi_scrore<35 :\n",
    "   print('อ้วนปานกลาง')\n",
    "elif bmi_scrore >=35 and bmi_scrore<40 :\n",
    "   print('โรคอ้วนอย่างรุนแรง')\n",
    "elif bmi_scrore >=40 :\n",
    "   print('อ้วนมากอย่างมาก')"
   ]
  },
  {
   "cell_type": "code",
   "execution_count": 33,
   "metadata": {
    "collapsed": false
   },
   "outputs": [
    {
     "name": "stdout",
     "output_type": "stream",
     "text": [
      "[1, 2, 3, 4, 5]\n",
      "[1, 3, 5]\n"
     ]
    },
    {
     "data": {
      "text/plain": [
       "True"
      ]
     },
     "execution_count": 33,
     "metadata": {},
     "output_type": "execute_result"
    }
   ],
   "source": [
    "list1 = [1,2,3,4,5]\n",
    "list2=[6,7]\n",
    "print(list1)\n",
    "#slice [star:stop:step]\n",
    "print(list1[::2])\n",
    "list2.count(3)\n",
    "7 in list2"
   ]
  },
  {
   "cell_type": "code",
   "execution_count": 35,
   "metadata": {
    "collapsed": false
   },
   "outputs": [
    {
     "name": "stdout",
     "output_type": "stream",
     "text": [
      "somchai\n",
      "somying\n"
     ]
    },
    {
     "data": {
      "text/plain": [
       "True"
      ]
     },
     "execution_count": 35,
     "metadata": {},
     "output_type": "execute_result"
    }
   ],
   "source": [
    "dict1 = {'name':'somchai','age':25,'mobile':'0823456789'}\n",
    "print(dict1['name'])\n",
    "dict1['name']='somying'\n",
    "print(dict1['name'])\n",
    "list(dict1.keys())\n",
    "25 in list(dict1.values())"
   ]
  },
  {
   "cell_type": "code",
   "execution_count": null,
   "metadata": {
    "collapsed": true
   },
   "outputs": [],
   "source": [
    "for "
   ]
  }
 ],
 "metadata": {
  "kernelspec": {
   "display_name": "Python 3",
   "language": "python",
   "name": "python3"
  },
  "language_info": {
   "codemirror_mode": {
    "name": "ipython",
    "version": 3
   },
   "file_extension": ".py",
   "mimetype": "text/x-python",
   "name": "python",
   "nbconvert_exporter": "python",
   "pygments_lexer": "ipython3",
   "version": "3.5.3"
  }
 },
 "nbformat": 4,
 "nbformat_minor": 2
}
